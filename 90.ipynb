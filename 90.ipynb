{
 "cells": [
  {
   "cell_type": "code",
   "execution_count": 94,
   "metadata": {
    "collapsed": true
   },
   "outputs": [],
   "source": [
    "# Do not edit. These are the only imports permitted.\n",
    "%matplotlib inline\n",
    "import numpy as np\n",
    "from numpy.linalg import inv\n",
    "import matplotlib.pyplot as plt\n",
    "from abc import ABC, abstractmethod"
   ]
  },
  {
   "cell_type": "code",
   "execution_count": 95,
   "metadata": {
    "collapsed": true
   },
   "outputs": [],
   "source": [
    "class MAB(ABC):\n",
    "    \n",
    "    @abstractmethod\n",
    "    def play(self, tround):\n",
    "        # Current round of t (for my implementations average mean reward array \n",
    "        # at round t is passed to this function instead of tround itself)\n",
    "        self.tround = tround\n",
    "        # choose an arm which yields maximum value of average mean reward, tie breaking randomly\n",
    "        chosen_arm = np.random.choice(np.where(self.tround==max(self.tround))[0])\n",
    "        return chosen_arm\n",
    "        pass\n",
    "        \n",
    "    \n",
    "    @abstractmethod\n",
    "    def update(self, arm, reward):\n",
    "        # get the chosen arm\n",
    "        self.arm = arm\n",
    "        # update the overall step of the model\n",
    "        self.step_n += 1\n",
    "        # update the step of individual arms\n",
    "        self.step_arm[self.arm] += 1\n",
    "        # update average mean reward of each arm\n",
    "        self.AM_reward[self.arm] = ((self.step_arm[self.arm] - 1) / float(self.step_arm[self.arm]) \n",
    "        * self.AM_reward[self.arm] + (1 / float(self.step_arm[self.arm])) * reward)\n",
    "        return\n",
    "        pass"
   ]
  },
  {
   "cell_type": "code",
   "execution_count": 96,
   "metadata": {
    "collapsed": true
   },
   "outputs": [],
   "source": [
    "class UCB(MAB):\n",
    "    \n",
    "    def __init__(self, narms, rho, Q0=np.inf):\n",
    "        # Set number of arms\n",
    "        self.narms = narms\n",
    "        # Rho\n",
    "        self.rho = rho\n",
    "        # Q0 values\n",
    "        self.Q0 = np.ones(self.narms)*np.inf\n",
    "        # Total step count\n",
    "        self.step_n = 0\n",
    "        # Step count for each arm\n",
    "        self.step_arm = np.zeros(self.narms)\n",
    "        # Mean reward for each arm\n",
    "        self.AM_reward = np.zeros(self.narms)\n",
    "        super().__init__()\n",
    "        return\n",
    "\n",
    "    # Play one round and return the action (chosen arm)\n",
    "    def play(self, tround):\n",
    "        # Q0 values are initially set to np.inf. Hence, choose an arm with maximum Q0 value (\n",
    "        # for all of them is np.inf, and therefore will play all of the arms at least one time)  \n",
    "        if len(np.where(self.Q0==0)[0])<10:\n",
    "            # choose an arm with maximum Q0 value\n",
    "            action = np.random.choice(np.where(self.Q0==max(self.Q0))[0])\n",
    "            # after the arm is chosen, set the corresponding Q0 value to zero\n",
    "            self.Q0[action]=0\n",
    "            return action + 1\n",
    "        else:\n",
    "            # Now, after that we ensure that there is no np.inf in Q0 values and all of them are set to zero\n",
    "            # we return to play based on average mean rewards\n",
    "            \n",
    "            # construct UCB values which performs the sqrt part\n",
    "            ucb_values = np.zeros(self.narms)\n",
    "            for arm in range(self.narms):\n",
    "                if self.step_arm[arm]>0:\n",
    "                    ucb_values[arm]= np.sqrt(self.rho *(np.log(self.step_n)) / self.step_arm[arm])\n",
    "            action = super(UCB, self).play(self.AM_reward + ucb_values)\n",
    "\n",
    "        return action + 1\n",
    "        \n",
    "        \n",
    "    def update(self, arm, reward):\n",
    "        super(UCB, self).update(arm, reward)\n",
    "        return"
   ]
  },
  {
   "cell_type": "code",
   "execution_count": 97,
   "metadata": {
    "collapsed": true
   },
   "outputs": [],
   "source": [
    "\n",
    "def offlineEvaluate(mab, arms, rewards, right_label, nrounds=None):\n",
    "    # array to contain chosen arms in offline mode\n",
    "    chosen_arms = np.zeros(nrounds)\n",
    "    # rewards of each chosen arm\n",
    "    reward_arms = np.zeros(nrounds)\n",
    "    # cumulative reward at each iteration\n",
    "    cumulative_reward = np.zeros(nrounds)\n",
    "    \n",
    "    predict_reward = np.zeros(nrounds)\n",
    "    # initialize tround to zero\n",
    "    T = 0\n",
    "    # initialize overall cumulative reward to zero\n",
    "    G = 0\n",
    "    # History or memory of offline evaluator\n",
    "    history = []\n",
    " \n",
    "    # play once and get the initial action\n",
    "    #action = mab.play(T)\n",
    "    right_count = 0\n",
    "    accurary_history = []\n",
    "    for n in range(nrounds):\n",
    "        action = mab.play(n)\n",
    "        if right_label == action:\n",
    "            right_count = right_count + 1\n",
    "        for i in range(10):\n",
    "            # update parameters and play only when chosen arm from bandit matches data\n",
    "            if action == arms[i]:\n",
    "\n",
    "\n",
    "                seed = np.random.randint(0,100, size=1)\n",
    "                # get the reward of chosen arm at round T\n",
    "                predict_reward[T] = mab.AM_reward[i]\n",
    "                reward_arms[T] = rewards[i][seed]\n",
    "\n",
    "                mab.update(action-1, rewards[i][seed])  \n",
    "                # update overall cumulative reward\n",
    "                G += rewards[i][seed]\n",
    "                # update cumulative reward of round T \n",
    "                cumulative_reward[T] = G\n",
    "                # store chosen arm at round T\n",
    "                chosen_arms[T] = action\n",
    "                T +=1\n",
    "            else:\n",
    "                # if desired tround ends, terminate the loop\n",
    "                continue\n",
    "        accurary = right_count / (n+1)\n",
    "        accurary_history.append(accurary)\n",
    "    return reward_arms, chosen_arms, cumulative_reward, predict_reward, accurary_history"
   ]
  },
  {
   "cell_type": "raw",
   "metadata": {
    "collapsed": true
   },
   "source": [
    "# def setThreshold(p):\n",
    "#     a = np.random.normal(0, 1, 100000)\n",
    "#     low = p*3-200 if p*3-200 > 1 else 1\n",
    "#     p1 = np.random.randint(low, p*3 - 2)\n",
    "#     if p1 > 100: \n",
    "#         p1 = 100\n",
    "#     low2 = p*3-p1-100 + 1 if  p*3-p1-100 + 1 > 1 else 1\n",
    "#     p2 = np.random.randint(low2, p*3 - p1 - 1)\n",
    "#     if p2 > 100:\n",
    "#         p2 = 100\n",
    "#     p3 = p * 3 - p1 - p2\n",
    "#     print(p1, p2, p3)\n",
    "#     print(np.percentile(a,p1),np.percentile(a, p2),np.percentile(a, p3))\n",
    "#     return [np.random.normal(np.percentile(a, p1), 1, 10000), \n",
    "#             np.random.normal(np.percentile(a, p2), 1, 10000),\n",
    "#             np.random.normal(np.percentile(a, p3), 1, 10000)], [p1, p2, p3]"
   ]
  },
  {
   "cell_type": "code",
   "execution_count": 98,
   "metadata": {
    "collapsed": true
   },
   "outputs": [],
   "source": [
    "def setThreshold(p):\n",
    "    a = np.random.normal(0, 1, 100000)\n",
    "    x0 = np.random.rand(10)\n",
    "    ratio = p*10/sum(x0)\n",
    "    x1 = x0*ratio\n",
    "    while np.max(x1) > 100:\n",
    "        x0 = np.random.rand(10)\n",
    "        ratio = p*10/sum(x0)\n",
    "        x1 = x0*ratio\n",
    "    l_x = [np.percentile(a,x1[i]) for i in range(10)]\n",
    "    print(l_x)\n",
    "    return [np.random.normal(np.percentile(a, x1[i]), 1, 10000) for i in range(10)], x1"
   ]
  },
  {
   "cell_type": "code",
   "execution_count": 99,
   "metadata": {},
   "outputs": [
    {
     "name": "stdout",
     "output_type": "stream",
     "text": [
      "[2.1751185702459255, 1.1114719487283227, 1.9062797666357043, 1.2488576796583866, 1.7644626035247015, 1.2180258520554714, 0.5284437585166616, 1.0050498533017167, 1.325434998880067, 2.5031445292937047]\n"
     ]
    },
    {
     "data": {
      "text/plain": [
       "array([98.45195715, 86.49975179, 97.13860583, 89.23776186, 96.03470178,\n",
       "       88.65927437, 69.95514805, 84.11300342, 90.55056739, 99.35922836])"
      ]
     },
     "execution_count": 99,
     "metadata": {},
     "output_type": "execute_result"
    }
   ],
   "source": [
    "# load dataset and initialize arms, rewards and contexts arrays\n",
    "#data = np.loadtxt('./dataset.txt')\n",
    "arms = [1,2,3,4,5,6,7,8,9,10]\n",
    "\n",
    "rewards, plist = setThreshold(90)\n",
    "plist"
   ]
  },
  {
   "cell_type": "code",
   "execution_count": 100,
   "metadata": {},
   "outputs": [
    {
     "data": {
      "text/plain": [
       "10"
      ]
     },
     "execution_count": 100,
     "metadata": {},
     "output_type": "execute_result"
    }
   ],
   "source": [
    "right_label = np.argmax(plist) + 1\n",
    "right_label"
   ]
  },
  {
   "cell_type": "code",
   "execution_count": 101,
   "metadata": {},
   "outputs": [
    {
     "name": "stdout",
     "output_type": "stream",
     "text": [
      "UCB average reward 2.444846921577761\n"
     ]
    }
   ],
   "source": [
    "mab = UCB(10, 1.0)\n",
    "results_UCB, chosen_arms_UCB, cumulative_reward_UCB, rewards_UCB, accurary_history = offlineEvaluate(mab, arms, rewards, right_label, 100000)\n",
    "print('UCB average reward', np.mean(results_UCB))"
   ]
  },
  {
   "cell_type": "code",
   "execution_count": 102,
   "metadata": {},
   "outputs": [
    {
     "data": {
      "text/plain": [
       "array([ 4.,  5.,  8., ..., 10., 10., 10.])"
      ]
     },
     "execution_count": 102,
     "metadata": {},
     "output_type": "execute_result"
    }
   ],
   "source": [
    "chosen_arms_UCB"
   ]
  },
  {
   "cell_type": "code",
   "execution_count": 103,
   "metadata": {},
   "outputs": [
    {
     "data": {
      "text/plain": [
       "(array([    4,    46,    73,   241,   242,   243,   336,   337,   338,\n",
       "          545,   546,  4545, 16258, 16259, 16260, 16261, 18137, 19967,\n",
       "        37101, 37102, 53414, 53415, 53416, 53417, 53418], dtype=int64),)"
      ]
     },
     "execution_count": 103,
     "metadata": {},
     "output_type": "execute_result"
    }
   ],
   "source": [
    "np.where(chosen_arms_UCB==3)"
   ]
  },
  {
   "cell_type": "code",
   "execution_count": 104,
   "metadata": {},
   "outputs": [
    {
     "data": {
      "text/plain": [
       "(array([    3,    11,    14,    19,    24,    25,    29,    41,    42,\n",
       "          125,   319,   497,   935,  1303,  1927,  1928,  7611,  7612,\n",
       "        46881, 51156, 74495, 94210, 94211, 94212, 94213], dtype=int64),)"
      ]
     },
     "execution_count": 104,
     "metadata": {},
     "output_type": "execute_result"
    }
   ],
   "source": [
    "np.where(chosen_arms_UCB==2)"
   ]
  },
  {
   "cell_type": "code",
   "execution_count": 105,
   "metadata": {},
   "outputs": [
    {
     "data": {
      "text/plain": [
       "(array([    5,    12,    13,    16,    17,    18,    21,    22,    23,\n",
       "           26,    27,    28,    30,    31,    32,    43,    44,    68,\n",
       "           69,    70,    71,    72,    98,   100,   139,   208,   209,\n",
       "          251,   502,   503,   655,   656,   936,   937,   938,   939,\n",
       "          940,   941,   942,   943,   944,   945,   946,   947,   948,\n",
       "          949,   950,   951,   952,   953,   954,   955,   956,   957,\n",
       "          958,   959,   960,   961,   962,   963,   964,   965,   966,\n",
       "          967,   968,   969,   970,   971,   972,   973,   974,   975,\n",
       "          976,   977,   978,   979,   980,   981,   982,   983,   984,\n",
       "          985,   986,   987,   988,   989,   990,   991,   992,   993,\n",
       "          994,   995,   996,   997,   998,   999,  1000,  1001,  1002,\n",
       "         1003,  1004,  1005,  1006,  1007,  1008,  1009,  1010,  1011,\n",
       "         1012,  1013,  1014,  1015,  1016,  1017,  1018,  1019,  1020,\n",
       "         1021,  1022,  1023,  1024,  1025,  1026,  1027,  1028,  1029,\n",
       "         1030,  1031,  1032,  1033,  1034,  1035,  1036,  1037,  1038,\n",
       "         1039,  1040,  1041,  1042,  1043,  1044,  1045,  1046,  1047,\n",
       "         1048,  1049,  1050,  1051,  1052,  1053,  1054,  1055,  1056,\n",
       "         1057,  1058,  1059,  1060,  1061,  1062,  1063,  1064,  1065,\n",
       "         1066,  1067,  1068,  1069,  1070,  1071,  1072,  1073,  1074,\n",
       "         1075,  1076,  1077,  1078,  1079,  1080,  1081,  1082,  1083,\n",
       "         1084,  1085,  1086,  1087,  1088,  1089,  1090,  1091,  1092,\n",
       "         1093,  1094,  1095,  1096,  1097,  1098,  1099,  1100,  1101,\n",
       "         1102,  1103,  1104,  1105,  1106,  1107,  1108,  1109,  1110,\n",
       "         1111,  1112,  1113,  1114,  1115,  1116,  1117,  1118,  1119,\n",
       "         1120,  1121,  1122,  1123,  1124,  1125,  1126,  1127,  1128,\n",
       "         1129,  1130,  1131,  1132,  1133,  1134,  1135,  1136,  1137,\n",
       "         1138,  1139,  1140,  1141,  1142,  1143,  1144,  1145,  1146,\n",
       "         1147,  1148,  1149,  1150,  1151,  1152,  1153,  1154,  1155,\n",
       "         1156,  1157,  1158,  1159,  1160,  1161,  1162,  1163,  1164,\n",
       "         1165,  1166,  1167,  1168,  1169,  1170,  1171,  1172,  1173,\n",
       "         1174,  1175,  1176,  1177,  1178,  1179,  1180,  1181,  1182,\n",
       "         1183,  1184,  1185,  1186,  1187,  1188,  1189,  1190,  1191,\n",
       "         1192,  1193,  1194,  1195,  1196,  1197,  1198,  1199,  1200,\n",
       "         1201,  1202,  1203,  1204,  1205,  1206,  1207,  1208,  1209,\n",
       "         1210,  1211,  1212,  1213,  1217,  1224,  1245,  1250,  1302,\n",
       "         1315,  1316,  1317,  1318,  1319,  1320,  1321,  1322,  1323,\n",
       "         1324,  1325,  1326,  1327,  1328,  1329,  1330,  1331,  1332,\n",
       "         1333,  1334,  1335,  1336,  1337,  1338,  1339,  1340,  1341,\n",
       "         1342,  1343,  1344,  1345,  1346,  1347,  1348,  1349,  1350,\n",
       "         1351,  1352,  1353,  1354,  1355,  1356,  1357,  1358,  1359,\n",
       "         1360,  1361,  1362,  1363,  1364,  1365,  1366,  1367,  1368,\n",
       "         1374,  1388,  1557,  1569,  1571,  1780,  1891,  1930,  1931,\n",
       "         1932,  1933,  1934,  1935,  2036,  2340,  2341,  2342,  2343,\n",
       "         2344,  2345,  2346,  2347,  2348,  2349,  2350,  2351,  2352,\n",
       "         2353,  2354,  2355,  2356,  2357,  2358,  2359,  2360,  2361,\n",
       "         2362,  2364,  2365,  2366,  2367,  2368,  2369,  2370,  2371,\n",
       "         2372,  2373,  2374,  2375,  2377,  2378,  2379,  2380,  2381,\n",
       "         2382,  2383,  2384,  2385,  2386,  2387,  2388,  2389,  2390,\n",
       "         2391,  2392,  2393,  2394,  2395,  2396,  2398,  2406,  2450,\n",
       "         2482,  2780,  2790,  2791,  2792,  2793,  2794,  2795,  2796,\n",
       "         2797,  2798,  2799,  2802,  2898,  2900,  2901,  2921,  2945,\n",
       "         2946,  2947,  2948,  2949,  2950,  2957,  3097,  3098,  8412,\n",
       "         8657,  8691,  8692,  8693,  8694,  8695,  9518, 11522, 11535,\n",
       "        11536, 11548, 17534, 17570, 20335, 20339, 20340, 20341, 21095,\n",
       "        29375, 29508, 29509, 29510, 29511, 29512, 29513, 29514, 29515,\n",
       "        29870, 29871, 29872, 29873, 29874, 29875, 29876, 29877, 29878,\n",
       "        29879, 29880, 29881, 29882, 29883, 29884, 29885, 29886, 29887,\n",
       "        29888, 29889, 29890, 29891, 29892, 30072, 30112, 30448, 41444,\n",
       "        46678, 46679, 46680, 52159, 52160, 52161, 75046, 82638, 82639],\n",
       "       dtype=int64),)"
      ]
     },
     "execution_count": 105,
     "metadata": {},
     "output_type": "execute_result"
    }
   ],
   "source": [
    "np.where(chosen_arms_UCB==1)"
   ]
  },
  {
   "cell_type": "code",
   "execution_count": 106,
   "metadata": {},
   "outputs": [
    {
     "data": {
      "text/plain": [
       "[<matplotlib.lines.Line2D at 0x2535ede4128>]"
      ]
     },
     "execution_count": 106,
     "metadata": {},
     "output_type": "execute_result"
    },
    {
     "data": {
      "image/png": "[encoded data removed]",
      "text/plain": [
       "<Figure size 432x288 with 1 Axes>"
      ]
     },
     "metadata": {},
     "output_type": "display_data"
    }
   ],
   "source": [
    "plt.plot(accurary_history[:4000])"
   ]
  },
  {
   "cell_type": "code",
   "execution_count": 107,
   "metadata": {},
   "outputs": [
    {
     "data": {
      "text/plain": [
       "array([ 0.72519414,  2.92348998, -0.37643633, ...,  1.82207881,\n",
       "        4.28909772,  1.72903877])"
      ]
     },
     "execution_count": 107,
     "metadata": {},
     "output_type": "execute_result"
    }
   ],
   "source": [
    "results_UCB"
   ]
  },
  {
   "cell_type": "code",
   "execution_count": 108,
   "metadata": {},
   "outputs": [
    {
     "data": {
      "text/plain": [
       "99988"
      ]
     },
     "execution_count": 108,
     "metadata": {},
     "output_type": "execute_result"
    }
   ],
   "source": [
    "len(np.where(rewards_UCB > 0)[0])"
   ]
  },
  {
   "cell_type": "code",
   "execution_count": 109,
   "metadata": {},
   "outputs": [
    {
     "data": {
      "text/plain": [
       "99971"
      ]
     },
     "execution_count": 109,
     "metadata": {},
     "output_type": "execute_result"
    }
   ],
   "source": [
    "len(np.where(results_UCB > 0)[0])"
   ]
  },
  {
   "cell_type": "code",
   "execution_count": 110,
   "metadata": {
    "collapsed": true
   },
   "outputs": [],
   "source": [
    "# import numpy as np\n",
    "# import matplotlib as mpl\n",
    "# import matplotlib.pyplot as plt\n",
    "\n",
    "# x = np.linspace(0,3,10000)\n",
    "# plt.title('Predict and Acutual Reward Comparision')\n",
    "# plt.plot(x_axix, reward_UCB, color='green', label='Predict')\n",
    "# plt.plot(sub_axix, results_UCB, color='red', label='Actual')\n",
    "# plt.legend() # 显示图例\n",
    "\n",
    "# plt.xlabel('times')\n",
    "# plt.ylabel('reward')\n",
    "# plt.show()"
   ]
  },
  {
   "cell_type": "code",
   "execution_count": 111,
   "metadata": {},
   "outputs": [
    {
     "data": {
      "text/plain": [
       "[<matplotlib.lines.Line2D at 0x25388d59b70>]"
      ]
     },
     "execution_count": 111,
     "metadata": {},
     "output_type": "execute_result"
    },
    {
     "data": {
      "image/png": "[encoded data removed]",
      "text/plain": [
       "<Figure size 432x288 with 1 Axes>"
      ]
     },
     "metadata": {},
     "output_type": "display_data"
    }
   ],
   "source": [
    "plt.plot(cumulative_reward_UCB)"
   ]
  },
  {
   "cell_type": "code",
   "execution_count": 112,
   "metadata": {},
   "outputs": [
    {
     "data": {
      "image/png": "[encoded data removed]",
      "text/plain": [
       "<Figure size 432x288 with 1 Axes>"
      ]
     },
     "metadata": {},
     "output_type": "display_data"
    }
   ],
   "source": [
    "plt.plot(results_UCB[:300])\n",
    "plt.plot(rewards_UCB[:300])\n",
    "plt.xlabel('times')\n",
    "plt.ylabel('reward')\n",
    "plt.legend([\"Predict_reward\",\"Actual_reward\"])\n",
    "plt.show()"
   ]
  },
  {
   "cell_type": "code",
   "execution_count": 113,
   "metadata": {},
   "outputs": [
    {
     "data": {
      "text/plain": [
       "array([ 0.72519414,  2.92348998, -0.37643633, ...,  1.82207881,\n",
       "        4.28909772,  1.72903877])"
      ]
     },
     "execution_count": 113,
     "metadata": {},
     "output_type": "execute_result"
    }
   ],
   "source": [
    "results_UCB"
   ]
  },
  {
   "cell_type": "code",
   "execution_count": 114,
   "metadata": {},
   "outputs": [
    {
     "data": {
      "text/plain": [
       "array([ 4.,  5.,  8., ..., 10., 10., 10.])"
      ]
     },
     "execution_count": 114,
     "metadata": {},
     "output_type": "execute_result"
    }
   ],
   "source": [
    "chosen_arms_UCB"
   ]
  },
  {
   "cell_type": "code",
   "execution_count": 115,
   "metadata": {},
   "outputs": [
    {
     "data": {
      "text/plain": [
       "array([7.25194142e-01, 3.64868412e+00, 3.27224779e+00, ...,\n",
       "       2.44478674e+05, 2.44482963e+05, 2.44484692e+05])"
      ]
     },
     "execution_count": 115,
     "metadata": {},
     "output_type": "execute_result"
    }
   ],
   "source": [
    "cumulative_reward_UCB"
   ]
  },
  {
   "cell_type": "code",
   "execution_count": 116,
   "metadata": {},
   "outputs": [
    {
     "data": {
      "text/plain": [
       "array([ 2.30933636,  1.73079386,  1.70755882,  1.33056292,  1.8220015 ,\n",
       "        1.63760256, -0.0067784 ,  0.46440352,  0.48339856,  2.44660621])"
      ]
     },
     "execution_count": 116,
     "metadata": {},
     "output_type": "execute_result"
    }
   ],
   "source": [
    "# 每一个臂的预测reward\n",
    "mab.AM_reward"
   ]
  },
  {
   "cell_type": "code",
   "execution_count": 117,
   "metadata": {},
   "outputs": [
    {
     "data": {
      "text/plain": [
       "9.150845459409592"
      ]
     },
     "execution_count": 117,
     "metadata": {},
     "output_type": "execute_result"
    }
   ],
   "source": [
    "0.14690929894690857\n",
    "0.9245774220883364\n",
    "1.9411605758761852\n",
    "2.9399821995064235\n",
    "3.960375551463821\n",
    "4.987506878175843\n",
    "6.026052641348151\n",
    "6.807000230507154\n",
    "7.870264325826362\n",
    "9.150845459409592"
   ]
  },
  {
   "cell_type": "code",
   "execution_count": null,
   "metadata": {
    "collapsed": true
   },
   "outputs": [],
   "source": []
  }
 ],
 "metadata": {
  "kernelspec": {
   "display_name": "Python 3",
   "language": "python",
   "name": "python3"
  },
  "language_info": {
   "codemirror_mode": {
    "name": "ipython",
    "version": 3
   },
   "file_extension": ".py",
   "mimetype": "text/x-python",
   "name": "python",
   "nbconvert_exporter": "python",
   "pygments_lexer": "ipython3",
   "version": "3.8.3"
  }
 },
 "nbformat": 4,
 "nbformat_minor": 2
}
